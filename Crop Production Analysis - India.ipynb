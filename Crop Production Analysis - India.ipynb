{
 "cells": [
  {
   "cell_type": "markdown",
   "metadata": {},
   "source": [
    "# Spotle AI - NASSCOM Community AI Internship Program\n",
    "## Task 1 - Project - Analyze Crop Production of India"
   ]
  },
  {
   "cell_type": "code",
   "execution_count": 1,
   "metadata": {},
   "outputs": [],
   "source": [
    "import pandas as pd\n",
    "import seaborn as sb\n",
    "import matplotlib as plt\n",
    "import numpy as np\n",
    "import math"
   ]
  },
  {
   "cell_type": "code",
   "execution_count": 2,
   "metadata": {},
   "outputs": [
    {
     "data": {
      "text/html": [
       "<div>\n",
       "<style scoped>\n",
       "    .dataframe tbody tr th:only-of-type {\n",
       "        vertical-align: middle;\n",
       "    }\n",
       "\n",
       "    .dataframe tbody tr th {\n",
       "        vertical-align: top;\n",
       "    }\n",
       "\n",
       "    .dataframe thead th {\n",
       "        text-align: right;\n",
       "    }\n",
       "</style>\n",
       "<table border=\"1\" class=\"dataframe\">\n",
       "  <thead>\n",
       "    <tr style=\"text-align: right;\">\n",
       "      <th></th>\n",
       "      <th>State</th>\n",
       "      <th>Year</th>\n",
       "      <th>Crop</th>\n",
       "      <th>Area</th>\n",
       "      <th>Production</th>\n",
       "    </tr>\n",
       "  </thead>\n",
       "  <tbody>\n",
       "    <tr>\n",
       "      <td>0</td>\n",
       "      <td>Andaman and Nicobar Islands</td>\n",
       "      <td>2000</td>\n",
       "      <td>Arecanut</td>\n",
       "      <td>4354.0</td>\n",
       "      <td>7200.0</td>\n",
       "    </tr>\n",
       "    <tr>\n",
       "      <td>1</td>\n",
       "      <td>Andaman and Nicobar Islands</td>\n",
       "      <td>2000</td>\n",
       "      <td>Banana</td>\n",
       "      <td>1707.0</td>\n",
       "      <td>12714.0</td>\n",
       "    </tr>\n",
       "    <tr>\n",
       "      <td>2</td>\n",
       "      <td>Andaman and Nicobar Islands</td>\n",
       "      <td>2000</td>\n",
       "      <td>Cashewnut</td>\n",
       "      <td>800.0</td>\n",
       "      <td>219.0</td>\n",
       "    </tr>\n",
       "    <tr>\n",
       "      <td>3</td>\n",
       "      <td>Andaman and Nicobar Islands</td>\n",
       "      <td>2000</td>\n",
       "      <td>Coconut</td>\n",
       "      <td>25160.0</td>\n",
       "      <td>89000000.0</td>\n",
       "    </tr>\n",
       "    <tr>\n",
       "      <td>4</td>\n",
       "      <td>Andaman and Nicobar Islands</td>\n",
       "      <td>2000</td>\n",
       "      <td>Dry ginger</td>\n",
       "      <td>388.0</td>\n",
       "      <td>1220.0</td>\n",
       "    </tr>\n",
       "    <tr>\n",
       "      <td>...</td>\n",
       "      <td>...</td>\n",
       "      <td>...</td>\n",
       "      <td>...</td>\n",
       "      <td>...</td>\n",
       "      <td>...</td>\n",
       "    </tr>\n",
       "    <tr>\n",
       "      <td>10699</td>\n",
       "      <td>West Bengal</td>\n",
       "      <td>2013</td>\n",
       "      <td>Sugarcane</td>\n",
       "      <td>17021.0</td>\n",
       "      <td>1945042.0</td>\n",
       "    </tr>\n",
       "    <tr>\n",
       "      <td>10700</td>\n",
       "      <td>West Bengal</td>\n",
       "      <td>2013</td>\n",
       "      <td>Sunflower</td>\n",
       "      <td>6434.0</td>\n",
       "      <td>8717.0</td>\n",
       "    </tr>\n",
       "    <tr>\n",
       "      <td>10701</td>\n",
       "      <td>West Bengal</td>\n",
       "      <td>2013</td>\n",
       "      <td>Tobacco</td>\n",
       "      <td>12570.0</td>\n",
       "      <td>22287.0</td>\n",
       "    </tr>\n",
       "    <tr>\n",
       "      <td>10702</td>\n",
       "      <td>West Bengal</td>\n",
       "      <td>2013</td>\n",
       "      <td>Urad</td>\n",
       "      <td>70052.0</td>\n",
       "      <td>48810.0</td>\n",
       "    </tr>\n",
       "    <tr>\n",
       "      <td>10703</td>\n",
       "      <td>West Bengal</td>\n",
       "      <td>2013</td>\n",
       "      <td>Wheat</td>\n",
       "      <td>331481.0</td>\n",
       "      <td>927837.0</td>\n",
       "    </tr>\n",
       "  </tbody>\n",
       "</table>\n",
       "<p>10704 rows × 5 columns</p>\n",
       "</div>"
      ],
      "text/plain": [
       "                             State  Year        Crop      Area  Production\n",
       "0      Andaman and Nicobar Islands  2000    Arecanut    4354.0      7200.0\n",
       "1      Andaman and Nicobar Islands  2000      Banana    1707.0     12714.0\n",
       "2      Andaman and Nicobar Islands  2000   Cashewnut     800.0       219.0\n",
       "3      Andaman and Nicobar Islands  2000    Coconut    25160.0  89000000.0\n",
       "4      Andaman and Nicobar Islands  2000  Dry ginger     388.0      1220.0\n",
       "...                            ...   ...         ...       ...         ...\n",
       "10699                  West Bengal  2013   Sugarcane   17021.0   1945042.0\n",
       "10700                  West Bengal  2013   Sunflower    6434.0      8717.0\n",
       "10701                  West Bengal  2013     Tobacco   12570.0     22287.0\n",
       "10702                  West Bengal  2013        Urad   70052.0     48810.0\n",
       "10703                  West Bengal  2013       Wheat  331481.0    927837.0\n",
       "\n",
       "[10704 rows x 5 columns]"
      ]
     },
     "execution_count": 2,
     "metadata": {},
     "output_type": "execute_result"
    }
   ],
   "source": [
    "crop_df = pd.read_csv (\"D:/Spotle AI Internship/state-wise-crop-production-India.csv\")\n",
    "crop_df"
   ]
  },
  {
   "cell_type": "markdown",
   "metadata": {},
   "source": [
    "### _Question 1_\n",
    "### _Find the average production of the crops in India._"
   ]
  },
  {
   "cell_type": "code",
   "execution_count": 3,
   "metadata": {},
   "outputs": [
    {
     "name": "stdout",
     "output_type": "stream",
     "text": [
      "Average Crop Production in India\n",
      "                   Crop    Production\n",
      "0                 Apple  0.000000e+00\n",
      "1                 Peach  0.000000e+00\n",
      "2       Other Dry Fruit  0.000000e+00\n",
      "3    Other Citrus Fruit  0.000000e+00\n",
      "4                 Plums  0.000000e+00\n",
      "..                  ...           ...\n",
      "117               Paddy  2.785651e+06\n",
      "118                Rice  3.074956e+06\n",
      "119               Wheat  3.136744e+06\n",
      "120           Sugarcane  1.121993e+07\n",
      "121            Coconut   9.230316e+08\n",
      "\n",
      "[122 rows x 2 columns]\n"
     ]
    }
   ],
   "source": [
    "avg_crop_prod = crop_df.groupby('Crop').Production.mean().sort_values(ascending = True).reset_index()\n",
    "print(\"Average Crop Production in India\")\n",
    "print(avg_crop_prod)"
   ]
  },
  {
   "cell_type": "code",
   "execution_count": 4,
   "metadata": {},
   "outputs": [],
   "source": [
    "avg_crop_prod.to_excel(r'D:\\Spotle AI Internship\\average Crop Production.xlsx')"
   ]
  },
  {
   "cell_type": "code",
   "execution_count": 5,
   "metadata": {},
   "outputs": [
    {
     "name": "stdout",
     "output_type": "stream",
     "text": [
      "923031631.6765834\n"
     ]
    }
   ],
   "source": [
    "print(avg_crop_prod.Production.max())"
   ]
  },
  {
   "cell_type": "code",
   "execution_count": 6,
   "metadata": {},
   "outputs": [
    {
     "name": "stdout",
     "output_type": "stream",
     "text": [
      "Maximum produced Crop:  Coconut  \n",
      "Production in Tonnes:  923031631.6765834\n"
     ]
    }
   ],
   "source": [
    "maxProdCrop = avg_crop_prod.loc[avg_crop_prod['Production'].idxmax()]\n",
    "print(\"Maximum produced Crop: \", maxProdCrop['Crop'],\"\\nProduction in Tonnes: \", maxProdCrop['Production'])"
   ]
  },
  {
   "cell_type": "markdown",
   "metadata": {},
   "source": [
    "### _Question 2_\n",
    "### _Which crop has maximum yield (Tonnes / Hectare)?_"
   ]
  },
  {
   "cell_type": "code",
   "execution_count": 7,
   "metadata": {},
   "outputs": [
    {
     "data": {
      "text/html": [
       "<div>\n",
       "<style scoped>\n",
       "    .dataframe tbody tr th:only-of-type {\n",
       "        vertical-align: middle;\n",
       "    }\n",
       "\n",
       "    .dataframe tbody tr th {\n",
       "        vertical-align: top;\n",
       "    }\n",
       "\n",
       "    .dataframe thead th {\n",
       "        text-align: right;\n",
       "    }\n",
       "</style>\n",
       "<table border=\"1\" class=\"dataframe\">\n",
       "  <thead>\n",
       "    <tr style=\"text-align: right;\">\n",
       "      <th></th>\n",
       "      <th>State</th>\n",
       "      <th>Year</th>\n",
       "      <th>Crop</th>\n",
       "      <th>Area</th>\n",
       "      <th>Production</th>\n",
       "      <th>Yield</th>\n",
       "    </tr>\n",
       "  </thead>\n",
       "  <tbody>\n",
       "    <tr>\n",
       "      <td>0</td>\n",
       "      <td>Andaman and Nicobar Islands</td>\n",
       "      <td>2000</td>\n",
       "      <td>Arecanut</td>\n",
       "      <td>4354.0</td>\n",
       "      <td>7200.0</td>\n",
       "      <td>1.653652</td>\n",
       "    </tr>\n",
       "    <tr>\n",
       "      <td>1</td>\n",
       "      <td>Andaman and Nicobar Islands</td>\n",
       "      <td>2000</td>\n",
       "      <td>Banana</td>\n",
       "      <td>1707.0</td>\n",
       "      <td>12714.0</td>\n",
       "      <td>7.448155</td>\n",
       "    </tr>\n",
       "    <tr>\n",
       "      <td>2</td>\n",
       "      <td>Andaman and Nicobar Islands</td>\n",
       "      <td>2000</td>\n",
       "      <td>Cashewnut</td>\n",
       "      <td>800.0</td>\n",
       "      <td>219.0</td>\n",
       "      <td>0.273750</td>\n",
       "    </tr>\n",
       "    <tr>\n",
       "      <td>3</td>\n",
       "      <td>Andaman and Nicobar Islands</td>\n",
       "      <td>2000</td>\n",
       "      <td>Coconut</td>\n",
       "      <td>25160.0</td>\n",
       "      <td>89000000.0</td>\n",
       "      <td>3537.360890</td>\n",
       "    </tr>\n",
       "    <tr>\n",
       "      <td>4</td>\n",
       "      <td>Andaman and Nicobar Islands</td>\n",
       "      <td>2000</td>\n",
       "      <td>Dry ginger</td>\n",
       "      <td>388.0</td>\n",
       "      <td>1220.0</td>\n",
       "      <td>3.144330</td>\n",
       "    </tr>\n",
       "    <tr>\n",
       "      <td>...</td>\n",
       "      <td>...</td>\n",
       "      <td>...</td>\n",
       "      <td>...</td>\n",
       "      <td>...</td>\n",
       "      <td>...</td>\n",
       "      <td>...</td>\n",
       "    </tr>\n",
       "    <tr>\n",
       "      <td>10699</td>\n",
       "      <td>West Bengal</td>\n",
       "      <td>2013</td>\n",
       "      <td>Sugarcane</td>\n",
       "      <td>17021.0</td>\n",
       "      <td>1945042.0</td>\n",
       "      <td>114.273074</td>\n",
       "    </tr>\n",
       "    <tr>\n",
       "      <td>10700</td>\n",
       "      <td>West Bengal</td>\n",
       "      <td>2013</td>\n",
       "      <td>Sunflower</td>\n",
       "      <td>6434.0</td>\n",
       "      <td>8717.0</td>\n",
       "      <td>1.354834</td>\n",
       "    </tr>\n",
       "    <tr>\n",
       "      <td>10701</td>\n",
       "      <td>West Bengal</td>\n",
       "      <td>2013</td>\n",
       "      <td>Tobacco</td>\n",
       "      <td>12570.0</td>\n",
       "      <td>22287.0</td>\n",
       "      <td>1.773031</td>\n",
       "    </tr>\n",
       "    <tr>\n",
       "      <td>10702</td>\n",
       "      <td>West Bengal</td>\n",
       "      <td>2013</td>\n",
       "      <td>Urad</td>\n",
       "      <td>70052.0</td>\n",
       "      <td>48810.0</td>\n",
       "      <td>0.696768</td>\n",
       "    </tr>\n",
       "    <tr>\n",
       "      <td>10703</td>\n",
       "      <td>West Bengal</td>\n",
       "      <td>2013</td>\n",
       "      <td>Wheat</td>\n",
       "      <td>331481.0</td>\n",
       "      <td>927837.0</td>\n",
       "      <td>2.799065</td>\n",
       "    </tr>\n",
       "  </tbody>\n",
       "</table>\n",
       "<p>10704 rows × 6 columns</p>\n",
       "</div>"
      ],
      "text/plain": [
       "                             State  Year        Crop      Area  Production  \\\n",
       "0      Andaman and Nicobar Islands  2000    Arecanut    4354.0      7200.0   \n",
       "1      Andaman and Nicobar Islands  2000      Banana    1707.0     12714.0   \n",
       "2      Andaman and Nicobar Islands  2000   Cashewnut     800.0       219.0   \n",
       "3      Andaman and Nicobar Islands  2000    Coconut    25160.0  89000000.0   \n",
       "4      Andaman and Nicobar Islands  2000  Dry ginger     388.0      1220.0   \n",
       "...                            ...   ...         ...       ...         ...   \n",
       "10699                  West Bengal  2013   Sugarcane   17021.0   1945042.0   \n",
       "10700                  West Bengal  2013   Sunflower    6434.0      8717.0   \n",
       "10701                  West Bengal  2013     Tobacco   12570.0     22287.0   \n",
       "10702                  West Bengal  2013        Urad   70052.0     48810.0   \n",
       "10703                  West Bengal  2013       Wheat  331481.0    927837.0   \n",
       "\n",
       "             Yield  \n",
       "0         1.653652  \n",
       "1         7.448155  \n",
       "2         0.273750  \n",
       "3      3537.360890  \n",
       "4         3.144330  \n",
       "...            ...  \n",
       "10699   114.273074  \n",
       "10700     1.354834  \n",
       "10701     1.773031  \n",
       "10702     0.696768  \n",
       "10703     2.799065  \n",
       "\n",
       "[10704 rows x 6 columns]"
      ]
     },
     "execution_count": 7,
     "metadata": {},
     "output_type": "execute_result"
    }
   ],
   "source": [
    "crop_df['Yield'] = crop_df['Production'] / crop_df['Area']\n",
    "crop_df"
   ]
  },
  {
   "cell_type": "code",
   "execution_count": 8,
   "metadata": {},
   "outputs": [
    {
     "name": "stdout",
     "output_type": "stream",
     "text": [
      "Average Crop Yield in India\n",
      "                  Crop        Yield\n",
      "0                Apple     0.000000\n",
      "1    Peas  (vegetable)     0.000000\n",
      "2      Other Dry Fruit     0.000000\n",
      "3                Plums     0.000000\n",
      "4             Pump Kin     0.000000\n",
      "..                 ...          ...\n",
      "117            Tapioca    15.863319\n",
      "118             Banana    25.164447\n",
      "119             Papaya    33.630105\n",
      "120          Sugarcane   245.388441\n",
      "121           Coconut   5762.131563\n",
      "\n",
      "[122 rows x 2 columns]\n"
     ]
    }
   ],
   "source": [
    "avg_crop_yield = crop_df.groupby('Crop').Yield.mean().sort_values(ascending = True).reset_index()\n",
    "print(\"Average Crop Yield in India\")\n",
    "print(avg_crop_yield)"
   ]
  },
  {
   "cell_type": "code",
   "execution_count": 9,
   "metadata": {},
   "outputs": [],
   "source": [
    "avg_crop_yield.to_excel(r'D:\\Spotle AI Internship\\average Crop Yield.xlsx')"
   ]
  },
  {
   "cell_type": "code",
   "execution_count": 10,
   "metadata": {},
   "outputs": [
    {
     "name": "stdout",
     "output_type": "stream",
     "text": [
      "Maximum yielded Crop:  Sugarcane \n",
      "Yield in Tonnes per Hectare:  70662.5 \n",
      "State:  Punjab \n",
      "Year:  2011\n"
     ]
    }
   ],
   "source": [
    "maxYieldCrop = crop_df.loc[crop_df['Yield'].idxmax()]\n",
    "print(\"Maximum yielded Crop: \", maxYieldCrop['Crop'],\"\\nYield in Tonnes per Hectare: \", maxYieldCrop['Yield'],\"\\nState: \", maxYieldCrop['State'], \"\\nYear: \", maxYieldCrop['Year'])"
   ]
  },
  {
   "cell_type": "code",
   "execution_count": 11,
   "metadata": {},
   "outputs": [
    {
     "name": "stdout",
     "output_type": "stream",
     "text": [
      "Crop yielded maximum average yield:  Coconut  \n",
      "Yield in Tonnes per Hectare:  5762.1315628135535\n"
     ]
    }
   ],
   "source": [
    "maxAvgYieldCrop = avg_crop_yield.loc[avg_crop_yield['Yield'].idxmax()]\n",
    "print(\"Crop yielded maximum average yield: \", maxAvgYieldCrop['Crop'],\"\\nYield in Tonnes per Hectare: \", maxAvgYieldCrop['Yield'])"
   ]
  },
  {
   "cell_type": "markdown",
   "metadata": {},
   "source": [
    "### _Question 4_\n",
    "### _Which State has the highest production of Wheat?_"
   ]
  },
  {
   "cell_type": "code",
   "execution_count": 12,
   "metadata": {},
   "outputs": [
    {
     "name": "stdout",
     "output_type": "stream",
     "text": [
      "Total Wheat Production. Statewise\n",
      "\n",
      "                     State   Production\n",
      "0                   Kerala          0.0\n",
      "1                  Mizoram          4.0\n",
      "2               Tamil Nadu         60.0\n",
      "3           Andhra Pradesh       8304.0\n",
      "4   Dadra and Nagar Haveli      14689.0\n",
      "5                  Tripura      22000.0\n",
      "6                Meghalaya      27456.0\n",
      "7               Chandigarh      31905.0\n",
      "8        Arunachal Pradesh      79706.0\n",
      "9                   Odisha      83855.2\n",
      "10                  Sikkim      86509.0\n",
      "11                Nagaland     102210.0\n",
      "12              Telangana      116469.0\n",
      "13               Jharkhand     569101.3\n",
      "14                   Assam     891455.0\n",
      "15            Chhattisgarh    1520799.0\n",
      "16               Karnataka    3040594.0\n",
      "17      Jammu and Kashmir     3293673.8\n",
      "18        Himachal Pradesh    5041136.0\n",
      "19             Uttarakhand   10970090.0\n",
      "20             West Bengal   12406670.0\n",
      "21             Maharashtra   17730775.0\n",
      "22                 Gujarat   32414100.0\n",
      "23                   Bihar   64634930.0\n",
      "24               Rajasthan   74356374.0\n",
      "25          Madhya Pradesh  123338759.0\n",
      "26                 Haryana  132906000.0\n",
      "27                  Punjab  218811000.0\n",
      "28           Uttar Pradesh  379678145.0\n"
     ]
    }
   ],
   "source": [
    "wheatProduction = crop_df.loc[crop_df['Crop'].values=='Wheat'].groupby('State').Production.sum().sort_values(ascending = True).reset_index()\n",
    "print(\"Total Wheat Production. Statewise\\n\")\n",
    "print(wheatProduction)"
   ]
  },
  {
   "cell_type": "code",
   "execution_count": 13,
   "metadata": {},
   "outputs": [
    {
     "name": "stdout",
     "output_type": "stream",
     "text": [
      "State with maximum wheat production:  Uttar Pradesh \n",
      "Total production in Tonnes:  379678145.0\n"
     ]
    }
   ],
   "source": [
    "maxWheatProd = wheatProduction.loc[wheatProduction['Production'].idxmax()]\n",
    "print(\"State with maximum wheat production: \", maxWheatProd['State'],\"\\nTotal production in Tonnes: \", maxWheatProd['Production'])"
   ]
  },
  {
   "cell_type": "code",
   "execution_count": null,
   "metadata": {},
   "outputs": [],
   "source": []
  }
 ],
 "metadata": {
  "kernelspec": {
   "display_name": "Python 3",
   "language": "python",
   "name": "python3"
  },
  "language_info": {
   "codemirror_mode": {
    "name": "ipython",
    "version": 3
   },
   "file_extension": ".py",
   "mimetype": "text/x-python",
   "name": "python",
   "nbconvert_exporter": "python",
   "pygments_lexer": "ipython3",
   "version": "3.7.4"
  }
 },
 "nbformat": 4,
 "nbformat_minor": 2
}
